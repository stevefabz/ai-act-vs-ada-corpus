{
  "nbformat": 4,
  "nbformat_minor": 0,
  "metadata": {
    "colab": {
      "provenance": [],
      "authorship_tag": "ABX9TyPwX2FZj9Pl70aPOseNpPwq",
      "include_colab_link": true
    },
    "kernelspec": {
      "name": "python3",
      "display_name": "Python 3"
    },
    "language_info": {
      "name": "python"
    }
  },
  "cells": [
    {
      "cell_type": "markdown",
      "metadata": {
        "id": "view-in-github",
        "colab_type": "text"
      },
      "source": [
        "<a href=\"https://colab.research.google.com/github/stevefabz/ai-act-vs-ada-corpus/blob/Dev/00_environment_setup.ipynb\" target=\"_parent\"><img src=\"https://colab.research.google.com/assets/colab-badge.svg\" alt=\"Open In Colab\"/></a>"
      ]
    },
    {
      "cell_type": "code",
      "execution_count": 9,
      "metadata": {
        "id": "iBy7LY6wKvMu"
      },
      "outputs": [],
      "source": [
        "# Core NLP and data tools\n",
        "#!pip install spacy pandas matplotlib fitz\n",
        "#!pip install numpy beautifulsoup4 requests\n",
        "# Install spaCy transformer model (may take a minute)\n",
        "#!python -m spacy download en_core_web_trf\n",
        "import numpy as np\n",
        "import pandas as pd\n",
        "import matplotlib.pyplot as plt\n",
        "import spacy\n",
        "import os\n",
        "from bs4 import BeautifulSoup\n",
        "import requests\n",
        "import fitz\n",
        "\n",
        "#os.makedirs(\"corpus\", exist_ok=True)\n",
        "#os.makedirs(\"src\", exist_ok=True)\n",
        "#os.makedirs(\"outputs\", exist_ok=True)\n",
        "#os.makedirs(\"notebooks\", exist_ok=True)\n",
        "\n",
        "with fitz.open(\"corpus/ADA.pdf\") as doc:\n",
        "    text = \"\"\n",
        "    for page in doc:\n",
        "        text += page.get_text()\n",
        "\n",
        "# Save to plain text if needed\n",
        "with open(\"corpus/ADA_from_pdf.txt\", \"w\", encoding=\"utf-8\") as f:\n",
        "    f.write(text)\n",
        "\n",
        "\n",
        "\n",
        "#with open(\"notebooks/log_day1.txt\", \"w\", encoding=\"utf-8\") as f:\n",
        "    #f.write(\"Day 1 setup completed: spaCy installed, folders created. Day 1 establishes a cloud-based, reproducible development environment using Google Colab as the IDE and GitHub as the version control and repository host. This enables consistent execution of code, sharing, and academic reproducibility, in line with open science principles.\")\n"
      ]
    }
  ]
}
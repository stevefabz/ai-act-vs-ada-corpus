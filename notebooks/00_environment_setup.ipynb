{
  "nbformat": 4,
  "nbformat_minor": 0,
  "metadata": {
    "colab": {
      "provenance": [],
      "authorship_tag": "ABX9TyPY7uI9mVbcqWW+944tki47",
      "include_colab_link": true
    },
    "kernelspec": {
      "name": "python3",
      "display_name": "Python 3"
    },
    "language_info": {
      "name": "python"
    }
  },
  "cells": [
    {
      "cell_type": "markdown",
      "metadata": {
        "id": "view-in-github",
        "colab_type": "text"
      },
      "source": [
        "<a href=\"https://colab.research.google.com/github/stevefabz/ai-act-vs-ada-corpus/blob/Dev/notebooks/00_environment_setup.ipynb\" target=\"_parent\"><img src=\"https://colab.research.google.com/assets/colab-badge.svg\" alt=\"Open In Colab\"/></a>"
      ]
    },
    {
      "cell_type": "code",
      "execution_count": 3,
      "metadata": {
        "id": "iBy7LY6wKvMu"
      },
      "outputs": [],
      "source": [
        "# Core NLP and data tools\n",
        "#!pip install spacy pandas matplotlib\n",
        "\n",
        "# Install spaCy transformer model (may take a minute)\n",
        "#!python -m spacy download en_core_web_trf\n",
        "\n",
        "import os\n",
        "\n",
        "os.makedirs(\"corpus\", exist_ok=True)\n",
        "os.makedirs(\"src\", exist_ok=True)\n",
        "os.makedirs(\"outputs\", exist_ok=True)\n",
        "os.makedirs(\"notebooks\", exist_ok=True)"
      ]
    }
  ]
}